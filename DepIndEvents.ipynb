{
 "cells": [
  {
   "cell_type": "markdown",
   "metadata": {},
   "source": [
    "### Independent Events"
   ]
  },
  {
   "cell_type": "code",
   "execution_count": 4,
   "metadata": {},
   "outputs": [
    {
     "name": "stdout",
     "output_type": "stream",
     "text": [
      "Dice Roll: 5\n",
      "Coin Flip: heads\n"
     ]
    }
   ],
   "source": [
    "import random\n",
    "\n",
    "def roll_dice():\n",
    "    return random.randint(1, 6)\n",
    "\n",
    "def flip_coin():\n",
    "    return random.choice(['heads', 'tails'])\n",
    "\n",
    "print(\"Dice Roll:\", roll_dice())\n",
    "print(\"Coin Flip:\", flip_coin())"
   ]
  },
  {
   "cell_type": "markdown",
   "metadata": {},
   "source": [
    "### Dependent Events\n",
    "Here Assume the full deck i.e 52 cards so let's say we drew an Ace so the probability to draw another ACE drops fros 4/52 to 3/52"
   ]
  },
  {
   "cell_type": "code",
   "execution_count": 12,
   "metadata": {},
   "outputs": [
    {
     "name": "stdout",
     "output_type": "stream",
     "text": [
      "Card Drawn: 9\n",
      "Cards remaining in deck: ['Ace', '2', '3', '4', '5', '6', '7', '8', '10', 'Jack', 'Queen', 'King'] Cards remaining:  12\n"
     ]
    }
   ],
   "source": [
    "deck = ['Ace', '2', '3', '4', '5', '6', '7', '8', '9', '10', 'Jack', 'Queen', 'King']\n",
    "\n",
    "def draw_card():\n",
    "    card = random.choice(deck)\n",
    "    deck.remove(card)\n",
    "    return card\n",
    "\n",
    "print(\"Card Drawn:\", draw_card())\n",
    "print(\"Cards remaining in deck:\", deck,\"Cards remaining: \",len(deck))\n"
   ]
  },
  {
   "cell_type": "code",
   "execution_count": null,
   "metadata": {},
   "outputs": [],
   "source": []
  }
 ],
 "metadata": {
  "kernelspec": {
   "display_name": "Python 3",
   "language": "python",
   "name": "python3"
  },
  "language_info": {
   "codemirror_mode": {
    "name": "ipython",
    "version": 3
   },
   "file_extension": ".py",
   "mimetype": "text/x-python",
   "name": "python",
   "nbconvert_exporter": "python",
   "pygments_lexer": "ipython3",
   "version": "3.8.5"
  }
 },
 "nbformat": 4,
 "nbformat_minor": 4
}
