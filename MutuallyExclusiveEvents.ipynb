{
 "cells": [
  {
   "cell_type": "markdown",
   "metadata": {},
   "source": [
    "### Mutually Exclusive Events"
   ]
  },
  {
   "cell_type": "markdown",
   "metadata": {},
   "source": [
    "* Mutually exclusive events are events that cannot occur at the same time."
   ]
  },
  {
   "cell_type": "code",
   "execution_count": 21,
   "metadata": {},
   "outputs": [
    {
     "name": "stdout",
     "output_type": "stream",
     "text": [
      "Dice Roll: 3\n",
      "Coin Flip: Not Possible\n"
     ]
    }
   ],
   "source": [
    "import random\n",
    "\n",
    "def roll_dice():\n",
    "    return random.randint(1, 6)\n",
    "\n",
    "def flip_coin():\n",
    "    return random.choice(['heads', 'tails'])\n",
    "\n",
    "dice_roll = roll_dice()\n",
    "if dice_roll == 3:\n",
    "    print(\"Dice Roll:\", dice_roll)\n",
    "    print(\"Coin Flip: Not Possible\")\n",
    "else:\n",
    "    coin_flip = flip_coin()\n",
    "    print(\"Dice Roll:\", dice_roll)\n",
    "    print(\"Coin Flip:\", coin_flip)"
   ]
  },
  {
   "cell_type": "code",
   "execution_count": null,
   "metadata": {},
   "outputs": [],
   "source": []
  }
 ],
 "metadata": {
  "kernelspec": {
   "display_name": "Python 3",
   "language": "python",
   "name": "python3"
  },
  "language_info": {
   "codemirror_mode": {
    "name": "ipython",
    "version": 3
   },
   "file_extension": ".py",
   "mimetype": "text/x-python",
   "name": "python",
   "nbconvert_exporter": "python",
   "pygments_lexer": "ipython3",
   "version": "3.8.5"
  }
 },
 "nbformat": 4,
 "nbformat_minor": 4
}
